{
 "cells": [
  {
   "cell_type": "markdown",
   "metadata": {},
   "source": [
    "# Setup TensorFlow GPU on Windows\n",
    "\n",
    "**Caution:** TensorFlow 2.10 was the last release supporting GPU on native-Windows. Starting with TensorFlow 2.11, use WSL2 or install `tensorflow-cpu` and optionally the TensorFlow-DirectML-Plugin.\n",
    "\n",
    "## System Requirements\n",
    "- Windows 7 or higher (64-bit)\n",
    "- TensorFlow 2.10 or below for GPU support on native-Windows\n",
    "\n",
    "## Install Microsoft Visual C++ Redistributable\n",
    "1. Go to the [Microsoft Visual C++ downloads](https://visualstudio.microsoft.com/visual-cpp-build-tools/).\n",
    "2. Download and install the Microsoft Visual C++ Redistributable for Visual Studio 2015, 2017, and 2019.\n",
    "\n",
    "## Install Miniconda\n",
    "1. Download the [Miniconda Windows Installer](https://docs.conda.io/en/latest/miniconda.html).\n",
    "2. Follow the installation instructions.\n",
    "\n",
    "## Create a Conda Environment\n",
    "1. Create a new conda environment named `tf`:\n",
    "    ```sh\n",
    "    conda create --name tf python=3.9\n",
    "    ```\n",
    "2. Activate the environment:\n",
    "    ```sh\n",
    "    conda activate tf\n",
    "    ```\n",
    "\n",
    "## GPU Setup (Optional)\n",
    "1. Install NVIDIA GPU driver.\n",
    "2. Install CUDA and cuDNN:\n",
    "    ```sh\n",
    "    conda install -c conda-forge cudatoolkit=11.2 cudnn=8.1.0\n",
    "    ```\n",
    "\n",
    "## Install TensorFlow\n",
    "1. Upgrade pip:\n",
    "    ```sh\n",
    "    pip install --upgrade pip\n",
    "    ```\n",
    "2. Install TensorFlow:\n",
    "    ```sh\n",
    "    pip install \"tensorflow<2.11\"\n",
    "    ```\n",
    "\n",
    "## Verify the Installation\n",
    "1. Verify CPU setup:\n",
    "    ```sh\n",
    "    python -c \"import tensorflow as tf; print(tf.reduce_sum(tf.random.normal([1000, 1000])))\"\n",
    "    ```\n",
    "2. Verify GPU setup:\n",
    "    ```sh\n",
    "    python -c \"import tensorflow as tf; print(tf.config.list_physical_devices('GPU'))\"\n",
    "    ```\n"
   ]
  },
  {
   "cell_type": "code",
   "execution_count": 1,
   "metadata": {},
   "outputs": [
    {
     "name": "stdout",
     "output_type": "stream",
     "text": [
      "[PhysicalDevice(name='/physical_device:GPU:0', device_type='GPU')]\n"
     ]
    }
   ],
   "source": [
    "import tensorflow as tf; print(tf.config.list_physical_devices('GPU'))"
   ]
  },
  {
   "cell_type": "code",
   "execution_count": 2,
   "metadata": {},
   "outputs": [
    {
     "name": "stdout",
     "output_type": "stream",
     "text": [
      "WARNING:tensorflow:From C:\\Users\\sreeh\\AppData\\Local\\Temp\\ipykernel_24800\\565982385.py:1: is_gpu_available (from tensorflow.python.framework.test_util) is deprecated and will be removed in a future version.\n",
      "Instructions for updating:\n",
      "Use `tf.config.list_physical_devices('GPU')` instead.\n"
     ]
    },
    {
     "data": {
      "text/plain": [
       "True"
      ]
     },
     "execution_count": 2,
     "metadata": {},
     "output_type": "execute_result"
    }
   ],
   "source": [
    "tf.test.is_gpu_available(cuda_only=False, min_cuda_compute_capability=None)"
   ]
  },
  {
   "cell_type": "code",
   "execution_count": 3,
   "metadata": {},
   "outputs": [],
   "source": [
    "model = tf.keras.Sequential([\n",
    "         tf.keras.layers.Dense(128, activation='relu'),\n",
    "         tf.keras.layers.Dense(10, activation='softmax')\n",
    "])"
   ]
  },
  {
   "cell_type": "code",
   "execution_count": 4,
   "metadata": {},
   "outputs": [],
   "source": [
    "model.compile(optimizer='adam',\n",
    "                  loss='sparse_categorical_crossentropy',\n",
    "                  metrics=['accuracy'])"
   ]
  },
  {
   "cell_type": "code",
   "execution_count": 5,
   "metadata": {},
   "outputs": [
    {
     "ename": "NameError",
     "evalue": "name 'training_data' is not defined",
     "output_type": "error",
     "traceback": [
      "\u001b[1;31m---------------------------------------------------------------------------\u001b[0m",
      "\u001b[1;31mNameError\u001b[0m                                 Traceback (most recent call last)",
      "Cell \u001b[1;32mIn[5], line 1\u001b[0m\n\u001b[1;32m----> 1\u001b[0m model\u001b[38;5;241m.\u001b[39mfit(\u001b[43mtraining_data\u001b[49m, training_labels, epochs\u001b[38;5;241m=\u001b[39m\u001b[38;5;241m50\u001b[39m)\n",
      "\u001b[1;31mNameError\u001b[0m: name 'training_data' is not defined"
     ]
    }
   ],
   "source": [
    "model.fit(training_data, training_labels, epochs=50)"
   ]
  },
  {
   "cell_type": "code",
   "execution_count": null,
   "metadata": {},
   "outputs": [],
   "source": [
    "model.evaluate(test_data, test_labels)"
   ]
  }
 ],
 "metadata": {
  "kernelspec": {
   "display_name": "tf",
   "language": "python",
   "name": "tf"
  },
  "language_info": {
   "codemirror_mode": {
    "name": "ipython",
    "version": 3
   },
   "file_extension": ".py",
   "mimetype": "text/x-python",
   "name": "python",
   "nbconvert_exporter": "python",
   "pygments_lexer": "ipython3",
   "version": "3.9.21"
  }
 },
 "nbformat": 4,
 "nbformat_minor": 2
}
