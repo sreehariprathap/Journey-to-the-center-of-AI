{
 "cells": [
  {
   "cell_type": "markdown",
   "metadata": {},
   "source": [
    "### i pykernel\n",
    "```markdown\n",
    "i pykernel is a package that provides the IPython kernel for Jupyter. It allows you to run Python code in Jupyter notebooks and other interactive frontends. The IPython kernel is responsible for executing the code you write in a notebook cell, and it communicates with the Jupyter server to display the output. This package is essential for running Python code in Jupyter environments.\n",
    "```"
   ]
  },
  {
   "cell_type": "markdown",
   "metadata": {},
   "source": [
    "How to install i pykernel?\n",
    "```bash\n",
    "pip install ipykernel\n",
    "```"
   ]
  },
  {
   "cell_type": "markdown",
   "metadata": {},
   "source": [
    "How to add i pykernel to Jupyter?\n",
    "```bash\n",
    "python -m ipykernel install --user --name=myenv\n",
    "```"
   ]
  }
 ],
 "metadata": {
  "language_info": {
   "name": "python"
  }
 },
 "nbformat": 4,
 "nbformat_minor": 2
}
