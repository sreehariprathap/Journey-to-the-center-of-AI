{
 "cells": [
  {
   "cell_type": "markdown",
   "id": "751b2414",
   "metadata": {},
   "source": [
    "\n",
    "# Eigenvalues and Eigenvectors\n",
    "\n",
    "Eigenvalues and eigenvectors are important concepts in linear algebra, widely used in various applications within AI and machine learning,\n",
    "such as principal component analysis (PCA) for dimensionality reduction, image compression, and stability analysis in differential equations.\n",
    "\n",
    "This notebook will cover:\n",
    "1. **Introduction to Eigenvalues and Eigenvectors**\n",
    "2. **Calculating Eigenvalues and Eigenvectors**\n",
    "3. **Applications in AI**\n",
    "4. **Practice Exercises**\n"
   ]
  },
  {
   "cell_type": "markdown",
   "id": "a53d6304",
   "metadata": {},
   "source": [
    "\n",
    "## 1. Introduction to Eigenvalues and Eigenvectors\n",
    "\n",
    "An eigenvector of a matrix is a vector that only changes in scale when the matrix is applied to it. The scale factor by which\n",
    "the eigenvector is stretched or compressed is called the eigenvalue.\n",
    "\n",
    "In mathematical terms, for a matrix **A** and a vector **v**:\n",
    "$$\n",
    "A \\cdot v = \\lambda v\n",
    "$$\n",
    "where:\n",
    "- **v** is an eigenvector of **A**\n",
    "- **λ** (lambda) is the eigenvalue corresponding to **v**\n",
    "\n",
    "In Python, we can use numpy to calculate eigenvalues and eigenvectors.\n"
   ]
  },
  {
   "cell_type": "code",
   "execution_count": null,
   "id": "ba91c621",
   "metadata": {},
   "outputs": [],
   "source": [
    "\n",
    "import numpy as np\n",
    "\n",
    "# Example matrix\n",
    "A = np.array([[4, 2], [1, 3]])\n",
    "\n",
    "# Calculating eigenvalues and eigenvectors\n",
    "eigenvalues, eigenvectors = np.linalg.eig(A)\n",
    "\n",
    "print(\"Matrix A:\\n\", A)\n",
    "print(\"Eigenvalues of A:\", eigenvalues)\n",
    "print(\"Eigenvectors of A:\\n\", eigenvectors)\n"
   ]
  },
  {
   "cell_type": "markdown",
   "id": "f58af6a6",
   "metadata": {},
   "source": [
    "\n",
    "## 2. Calculating Eigenvalues and Eigenvectors\n",
    "\n",
    "Eigenvalues and eigenvectors can help us understand the behavior of a matrix in transformations, such as how it scales or rotates vectors.\n",
    "\n",
    "Let's calculate eigenvalues and eigenvectors for the following matrix:\n",
    "$$\n",
    "A = \\begin{bmatrix} 4 & 2 \\\\ 1 & 3 \\end{bmatrix}\n",
    "$$\n"
   ]
  },
  {
   "cell_type": "code",
   "execution_count": null,
   "id": "2fc2743b",
   "metadata": {},
   "outputs": [],
   "source": [
    "\n",
    "import numpy as np\n",
    "\n",
    "# Example matrix\n",
    "A = np.array([[4, 2], [1, 3]])\n",
    "\n",
    "# Calculating eigenvalues and eigenvectors\n",
    "eigenvalues, eigenvectors = np.linalg.eig(A)\n",
    "\n",
    "print(\"Matrix A:\\n\", A)\n",
    "print(\"Eigenvalues of A:\", eigenvalues)\n",
    "print(\"Eigenvectors of A:\\n\", eigenvectors)\n"
   ]
  },
  {
   "cell_type": "markdown",
   "id": "45606142",
   "metadata": {},
   "source": [
    "\n",
    "## 3. Applications in AI\n",
    "\n",
    "Eigenvalues and eigenvectors have many applications in AI:\n",
    "- **Principal Component Analysis (PCA)**: Used for dimensionality reduction by finding directions of maximum variance.\n",
    "- **Image Compression**: Eigenvalues and eigenvectors help in reducing the amount of data in images.\n",
    "- **Markov Chains**: The steady-state distribution of a Markov chain is found using eigenvalues and eigenvectors.\n",
    "- **Neural Networks**: Understanding stability and convergence in training.\n",
    "\n",
    "### Example: PCA using Eigenvalues and Eigenvectors\n",
    "In PCA, we find the eigenvectors of the covariance matrix of a dataset to understand the directions of maximum variance.\n"
   ]
  },
  {
   "cell_type": "markdown",
   "id": "e5961bb7",
   "metadata": {},
   "source": [
    "\n",
    "## 4. Practice Exercises\n",
    "\n",
    "1. Find the eigenvalues and eigenvectors of the matrix:\n",
    "   $$\n",
    "   B = \\begin{bmatrix} 6 & 1 \\\\ 2 & 3 \\end{bmatrix}\n",
    "   $$\n",
    "\n",
    "2. Try creating a covariance matrix from a small dataset and find its eigenvalues and eigenvectors to see the direction of maximum variance.\n",
    "\n",
    "3. **Challenge**: Implement a simple PCA using numpy by reducing a 2D dataset to 1D using the largest eigenvector.\n"
   ]
  }
 ],
 "metadata": {
  "language_info": {
   "name": "python"
  }
 },
 "nbformat": 4,
 "nbformat_minor": 5
}
