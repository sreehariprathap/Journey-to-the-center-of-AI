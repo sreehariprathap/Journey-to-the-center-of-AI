{
 "cells": [
  {
   "cell_type": "markdown",
   "id": "962c53c8",
   "metadata": {},
   "source": [
    "\n",
    "# Vectors\n",
    "\n",
    "Welcome to this notebook on linear algebra basics with a focus on vectors. \n",
    "Vectors are foundational in AI and machine learning, where they represent \n",
    "quantities ranging from features of datasets to weights in neural networks.\n",
    "\n",
    "This notebook will cover:\n",
    "1. **What is a Vector?**\n",
    "2. **Basic Vector Operations**\n",
    "3. **Vector Magnitude (Norm)**\n",
    "4. **Unit Vectors**\n",
    "5. **Applications in AI**\n",
    "6. **Practice Exercises**\n"
   ]
  },
  {
   "cell_type": "markdown",
   "id": "c59b91e8",
   "metadata": {},
   "source": [
    "\n",
    "## 1. What is a Vector?\n",
    "\n",
    "A vector is a mathematical object that has both magnitude and direction. \n",
    "In machine learning and AI, vectors often represent features of a dataset, \n",
    "images, text embeddings, and more.\n",
    "\n",
    "In this notebook, we'll use numpy for handling vectors.\n",
    "\n",
    "### Vector Notation\n",
    "Vectors can be written as:\n",
    "- Column Vectors: $\\vec{v} = \\begin{bmatrix} 2 \\\\ 3 \\end{bmatrix}$\n",
    "- Row Vectors: $\\vec{v} = \\begin{bmatrix} 2 & 3 \\end{bmatrix}$\n",
    "\n",
    "We'll use numpy arrays to create and manipulate vectors.\n"
   ]
  },
  {
   "cell_type": "markdown",
   "id": "1df5e629",
   "metadata": {},
   "source": [
    "\n",
    "## 2. Basic Vector Operations\n",
    "\n",
    "### 2.1 Vector Addition and Subtraction\n",
    "Two vectors of the same size can be added or subtracted element-wise.\n",
    "\n",
    "For example:\n",
    "- $\\vec{a} = \\begin{bmatrix} 1 & 2 \\end{bmatrix}$\n",
    "- $\\vec{b} = \\begin{bmatrix} 3 & 4 \\end{bmatrix}$\n",
    "\n",
    "Then:\n",
    "$$ \\vec{a} + \\vec{b} = \\begin{bmatrix} 1 + 3 & 2 + 4 \\end{bmatrix} = \\begin{bmatrix} 4 & 6 \\end{bmatrix} $$\n"
   ]
  },
  {
   "cell_type": "code",
   "execution_count": null,
   "id": "87f8668a",
   "metadata": {},
   "outputs": [],
   "source": [
    "\n",
    "import numpy as np\n",
    "\n",
    "# Example Vectors\n",
    "a = np.array([1, 2])\n",
    "b = np.array([3, 4])\n",
    "\n",
    "# Addition and Subtraction\n",
    "a_plus_b = a + b\n",
    "a_minus_b = a - b\n",
    "\n",
    "print(\"Vector a:\", a)\n",
    "print(\"Vector b:\", b)\n",
    "print(\"a + b:\", a_plus_b)\n",
    "print(\"a - b:\", a_minus_b)\n"
   ]
  },
  {
   "cell_type": "markdown",
   "id": "326fead6",
   "metadata": {},
   "source": [
    "\n",
    "### 2.2 Scalar Multiplication\n",
    "In scalar multiplication, each component of a vector is multiplied by a scalar (number).\n",
    "\n",
    "For example, if $\\vec{a} = \\begin{bmatrix} 1 & 2 \\end{bmatrix}$ and scalar $k = 3$:\n",
    "\n",
    "$$ k \\cdot \\vec{a} = \\begin{bmatrix} 3 & 6 \\end{bmatrix} $$\n"
   ]
  },
  {
   "cell_type": "code",
   "execution_count": null,
   "id": "7192f917",
   "metadata": {},
   "outputs": [],
   "source": [
    "\n",
    "# Scalar Multiplication\n",
    "k = 3\n",
    "k_times_a = k * a\n",
    "\n",
    "print(\"Scalar k:\", k)\n",
    "print(\"k * a:\", k_times_a)\n"
   ]
  },
  {
   "cell_type": "markdown",
   "id": "aec56bd8",
   "metadata": {},
   "source": [
    "\n",
    "### 2.3 Dot Product\n",
    "The dot product of two vectors is a measure of their similarity. For two vectors $\\vec{a}$ and $\\vec{b}$:\n",
    "\n",
    "$$ \\vec{a} \\cdot \\vec{b} = \\sum_{i} a_i \\cdot b_i $$\n",
    "\n",
    "If $\\vec{a} = \\begin{bmatrix} 1 & 2 \\end{bmatrix}$ and $\\vec{b} = \\begin{bmatrix} 3 & 4 \\end{bmatrix}$:\n",
    "$$ \\vec{a} \\cdot \\vec{b} = 1 \\cdot 3 + 2 \\cdot 4 = 3 + 8 = 11 $$\n"
   ]
  },
  {
   "cell_type": "code",
   "execution_count": null,
   "id": "dd40ea1b",
   "metadata": {},
   "outputs": [],
   "source": [
    "\n",
    "# Dot Product\n",
    "dot_product = np.dot(a, b)\n",
    "\n",
    "print(\"Dot Product of a and b:\", dot_product)\n"
   ]
  },
  {
   "cell_type": "markdown",
   "id": "ead29839",
   "metadata": {},
   "source": [
    "\n",
    "## 3. Vector Magnitude (Norm)\n",
    "The magnitude (or norm) of a vector is its length. The Euclidean norm (L2) is calculated as:\n",
    "\n",
    "$$ ||\\vec{a}|| = \\sqrt{a_1^2 + a_2^2} $$\n",
    "\n",
    "For a vector $\\vec{a} = \\begin{bmatrix} 1 & 2 \\end{bmatrix}$:\n",
    "$$ ||\\vec{a}|| = \\sqrt{1^2 + 2^2} = \\sqrt{5} $$\n"
   ]
  },
  {
   "cell_type": "code",
   "execution_count": null,
   "id": "64b00445",
   "metadata": {},
   "outputs": [],
   "source": [
    "\n",
    "# Magnitude (Norm)\n",
    "magnitude = np.linalg.norm(a)\n",
    "\n",
    "print(\"Magnitude of vector a:\", magnitude)\n"
   ]
  },
  {
   "cell_type": "markdown",
   "id": "90a8a867",
   "metadata": {},
   "source": [
    "\n",
    "## 4. Applications in AI\n",
    "\n",
    "Vectors are everywhere in AI:\n",
    "- **Feature vectors**: Represent features of data points (e.g., [height, weight, age] for individuals).\n",
    "- **Embeddings**: Word embeddings represent words as vectors in NLP.\n",
    "- **Images**: Each pixel can be represented as a vector in image processing.\n",
    "\n"
   ]
  },
  {
   "cell_type": "markdown",
   "id": "5b9335f4",
   "metadata": {},
   "source": [
    "\n",
    "## 5. Practice Exercises\n",
    "\n",
    "1. Create two vectors `v1` and `v2` with 3 elements each, and compute:\n",
    "    - Their sum and difference.\n",
    "    - Their dot product.\n",
    "    - The magnitude of each vector.\n",
    "    - Normalize each vector (find the unit vector).\n",
    "\n",
    "2. Try creating a feature vector representing characteristics like `height`, `weight`, and `age` \n",
    "for a dataset of 5 individuals, then compute the mean of each feature.\n",
    "\n",
    "3. **Challenge**: Implement cosine similarity using the dot product and magnitude.\n"
   ]
  }
 ],
 "metadata": {
  "language_info": {
   "name": "python"
  }
 },
 "nbformat": 4,
 "nbformat_minor": 5
}
