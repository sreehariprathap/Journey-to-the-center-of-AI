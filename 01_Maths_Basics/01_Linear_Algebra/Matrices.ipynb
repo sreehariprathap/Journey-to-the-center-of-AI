{
 "cells": [
  {
   "cell_type": "markdown",
   "id": "558e847a",
   "metadata": {},
   "source": [
    "\n",
    "# Matrices\n",
    "\n",
    "This notebook covers matrices, another fundamental concept in linear algebra essential for AI and machine learning.\n",
    "Matrices can represent multiple vectors, store datasets, transform images, and much more in AI.\n",
    "\n",
    "This notebook will cover:\n",
    "1. **What is a Matrix?**\n",
    "2. **Basic Matrix Operations**\n",
    "3. **Matrix Transpose**\n",
    "4. **Matrix Determinant and Inverse**\n",
    "5. **Applications in AI**\n",
    "6. **Practice Exercises**\n"
   ]
  },
  {
   "cell_type": "markdown",
   "id": "96a8859d",
   "metadata": {},
   "source": [
    "\n",
    "## 1. What is a Matrix?\n",
    "\n",
    "A matrix is a two-dimensional array of numbers arranged in rows and columns. In machine learning, matrices can \n",
    "represent data, images, or transformations.\n",
    "\n",
    "For example:\n",
    "$$\n",
    "A = \\begin{bmatrix} 1 & 2 & 3 \\\\ 4 & 5 & 6 \\\\ 7 & 8 & 9 \\end{bmatrix}\n",
    "$$\n",
    "\n",
    "In Python, we use numpy to create and manipulate matrices.\n"
   ]
  },
  {
   "cell_type": "code",
   "execution_count": null,
   "id": "ac0d9fe0",
   "metadata": {},
   "outputs": [],
   "source": [
    "\n",
    "import numpy as np\n",
    "\n",
    "# Creating a 3x3 matrix\n",
    "A = np.array([[1, 2, 3], [4, 5, 6], [7, 8, 9]])\n",
    "print(\"Matrix A:\\n\", A)\n"
   ]
  },
  {
   "cell_type": "markdown",
   "id": "e5c1d008",
   "metadata": {},
   "source": [
    "\n",
    "## 2. Basic Matrix Operations\n",
    "\n",
    "### 2.1 Matrix Addition and Subtraction\n",
    "Two matrices of the same size can be added or subtracted element-wise.\n",
    "\n",
    "For example, given:\n",
    "$$\n",
    "A = \\begin{bmatrix} 1 & 2 \\\\ 3 & 4 \\end{bmatrix}, \\quad B = \\begin{bmatrix} 5 & 6 \\\\ 7 & 8 \\end{bmatrix}\n",
    "$$\n",
    "\n",
    "Then:\n",
    "$$\n",
    "A + B = \\begin{bmatrix} 1+5 & 2+6 \\\\ 3+7 & 4+8 \\end{bmatrix} = \\begin{bmatrix} 6 & 8 \\\\ 10 & 12 \\end{bmatrix}\n",
    "$$\n"
   ]
  },
  {
   "cell_type": "code",
   "execution_count": null,
   "id": "24f21454",
   "metadata": {},
   "outputs": [],
   "source": [
    "\n",
    "# Example matrices\n",
    "A = np.array([[1, 2], [3, 4]])\n",
    "B = np.array([[5, 6], [7, 8]])\n",
    "\n",
    "# Matrix Addition and Subtraction\n",
    "A_plus_B = A + B\n",
    "A_minus_B = A - B\n",
    "\n",
    "print(\"Matrix A:\\n\", A)\n",
    "print(\"Matrix B:\\n\", B)\n",
    "print(\"A + B:\\n\", A_plus_B)\n",
    "print(\"A - B:\\n\", A_minus_B)\n"
   ]
  },
  {
   "cell_type": "markdown",
   "id": "4650151b",
   "metadata": {},
   "source": [
    "\n",
    "### 2.2 Matrix Multiplication\n",
    "Matrix multiplication combines rows of the first matrix with columns of the second matrix.\n",
    "\n",
    "For example, if:\n",
    "$$\n",
    "A = \\begin{bmatrix} 1 & 2 \\\\ 3 & 4 \\end{bmatrix}, \\quad B = \\begin{bmatrix} 5 & 6 \\\\ 7 & 8 \\end{bmatrix}\n",
    "$$\n",
    "Then:\n",
    "$$\n",
    "A \\cdot B = \\begin{bmatrix} 1 \\cdot 5 + 2 \\cdot 7 & 1 \\cdot 6 + 2 \\cdot 8 \\\\ 3 \\cdot 5 + 4 \\cdot 7 & 3 \\cdot 6 + 4 \\cdot 8 \\end{bmatrix} = \\begin{bmatrix} 19 & 22 \\\\ 43 & 50 \\end{bmatrix}\n",
    "$$\n"
   ]
  },
  {
   "cell_type": "code",
   "execution_count": null,
   "id": "c02daf31",
   "metadata": {},
   "outputs": [],
   "source": [
    "\n",
    "# Matrix Multiplication\n",
    "A_dot_B = np.dot(A, B)\n",
    "print(\"A * B (Matrix Multiplication):\\n\", A_dot_B)\n"
   ]
  },
  {
   "cell_type": "markdown",
   "id": "1edfaca7",
   "metadata": {},
   "source": [
    "\n",
    "## 3. Matrix Transpose\n",
    "The transpose of a matrix flips it over its diagonal, converting rows to columns and vice versa.\n",
    "\n",
    "If:\n",
    "$$\n",
    "A = \\begin{bmatrix} 1 & 2 & 3 \\\\ 4 & 5 & 6 \\end{bmatrix}\n",
    "$$\n",
    "Then:\n",
    "$$\n",
    "A^T = \\begin{bmatrix} 1 & 4 \\\\ 2 & 5 \\\\ 3 & 6 \\end{bmatrix}\n",
    "$$\n"
   ]
  },
  {
   "cell_type": "code",
   "execution_count": null,
   "id": "cce6602c",
   "metadata": {},
   "outputs": [],
   "source": [
    "\n",
    "# Matrix Transpose\n",
    "A_T = A.T\n",
    "print(\"Transpose of A:\\n\", A_T)\n"
   ]
  },
  {
   "cell_type": "markdown",
   "id": "68e7abb2",
   "metadata": {},
   "source": [
    "\n",
    "## 4. Matrix Determinant and Inverse\n",
    "\n",
    "### 4.1 Determinant\n",
    "The determinant of a matrix is a scalar that provides information about the matrix, such as whether it has an inverse.\n",
    "\n",
    "For a 2x2 matrix:\n",
    "$$\n",
    "A = \\begin{bmatrix} a & b \\\\ c & d \\end{bmatrix}\n",
    "$$\n",
    "The determinant is:\n",
    "$$\n",
    "\\text{det}(A) = ad - bc\n",
    "$$\n",
    "\n",
    "### 4.2 Inverse\n",
    "The inverse of a matrix $A$ is another matrix $A^{-1}$ such that $A \\cdot A^{-1} = I$, where $I$ is the identity matrix.\n",
    "\n",
    "Only square matrices with non-zero determinants have inverses.\n"
   ]
  },
  {
   "cell_type": "code",
   "execution_count": null,
   "id": "27baa0df",
   "metadata": {},
   "outputs": [],
   "source": [
    "\n",
    "# Determinant and Inverse\n",
    "A_square = np.array([[4, 7], [2, 6]])\n",
    "\n",
    "# Determinant\n",
    "det_A = np.linalg.det(A_square)\n",
    "\n",
    "# Inverse\n",
    "inv_A = np.linalg.inv(A_square)\n",
    "\n",
    "print(\"Matrix A:\\n\", A_square)\n",
    "print(\"Determinant of A:\", det_A)\n",
    "print(\"Inverse of A:\\n\", inv_A)\n"
   ]
  },
  {
   "cell_type": "markdown",
   "id": "3b58d60a",
   "metadata": {},
   "source": [
    "\n",
    "## 5. Applications in AI\n",
    "\n",
    "Matrices have multiple applications in AI:\n",
    "- **Data Representation**: Datasets are often represented as matrices, where each row is a data point and each column a feature.\n",
    "- **Transformations**: Matrices are used to perform transformations like rotation, scaling in image processing.\n",
    "- **Neural Networks**: Weights in neural networks are matrices that transform inputs into outputs.\n"
   ]
  },
  {
   "cell_type": "markdown",
   "id": "ca3e9ce0",
   "metadata": {},
   "source": [
    "\n",
    "## 6. Practice Exercises\n",
    "\n",
    "1. Create two matrices, `M1` and `M2`, and compute their sum, difference, and product.\n",
    "2. Calculate the transpose, determinant, and inverse (if exists) for a square matrix.\n",
    "3. **Challenge**: Implement a transformation matrix that rotates a 2D vector by 45 degrees.\n"
   ]
  }
 ],
 "metadata": {
  "language_info": {
   "name": "python"
  }
 },
 "nbformat": 4,
 "nbformat_minor": 5
}
