{
 "cells": [
  {
   "cell_type": "markdown",
   "id": "4641b203",
   "metadata": {},
   "source": [
    "# Derivatives and Integrals\n",
    "This notebook serves as a guide to understanding the fundamentals of **derivatives** and **integrals**, their rules, applications, and their use in AI.\n",
    "\n",
    "## Contents:\n",
    "- Introduction\n",
    "- Derivatives\n",
    "- Integrals\n",
    "- Applications in AI\n",
    "- Symbolic and Numerical Computations using Python\n"
   ]
  },
  {
   "cell_type": "markdown",
   "id": "7e2e9da8",
   "metadata": {},
   "source": [
    "## 1. Introduction\n",
    "In calculus, **derivatives** represent the rate of change of a function with respect to a variable, while **integrals** represent the accumulation of values. In AI, these concepts are foundational, especially in areas like optimization and training neural networks."
   ]
  },
  {
   "cell_type": "markdown",
   "id": "3a16ae70",
   "metadata": {},
   "source": [
    "## 2. Derivatives\n",
    "### Basic Definition:\n",
    "The derivative of a function represents its rate of change with respect to a variable. It is denoted as $f'(x)$ or $\\frac{dy}{dx}$.\n",
    "\n",
    "### Rules of Differentiation:\n",
    "Below are some common differentiation rules:- **Constant Rule**: $\\frac{d}{dx}(c) = 0$\n",
    "- **Power Rule**: $\\frac{d}{dx}(x^n) = nx^{n-1}$\n",
    "- **Sum/Difference Rule**: $(f \\pm g)' = f' \\pm g'$\n",
    "- **Product Rule**: $(fg)' = f'g + fg'$\n",
    "- **Quotient Rule**: $\\left(\\frac{f}{g}\\right)' = \\frac{f'g - fg'}{g^2}$\n",
    "- **Chain Rule**: $(f(g(x)))' = f'(g(x)) \\cdot g'(x)$\n",
    "\n",
    "### Examples:\n",
    "Let's calculate the derivative of a few basic functions."
   ]
  },
  {
   "cell_type": "code",
   "execution_count": null,
   "id": "9884019a",
   "metadata": {},
   "outputs": [],
   "source": [
    "# Example: Differentiating x^2\n",
    "from sympy import symbols, diff\n",
    "x = symbols('x')\n",
    "f = x**2\n",
    "df_dx = diff(f, x)\n",
    "df_dx"
   ]
  },
  {
   "cell_type": "markdown",
   "id": "812a3aba",
   "metadata": {},
   "source": [
    "### Higher-order Derivatives\n",
    "Higher-order derivatives, like the second derivative, represent the rate of change of the rate of change.\n",
    "\n",
    "### Partial Derivatives:\n",
    "Partial derivatives apply to functions with multiple variables and are essential in AI models like neural networks."
   ]
  },
  {
   "cell_type": "markdown",
   "id": "2340b26e",
   "metadata": {},
   "source": [
    "## 3. Integrals\n",
    "### Basic Definition:\n",
    "An **integral** represents the accumulation of quantities. It is denoted as $\\int f(x) \\, dx$.\n",
    "\n",
    "### Rules of Integration:\n",
    "Some basic integration rules include:\n",
    "- **Constant Rule**: $\\int c \\, dx = cx$\n",
    "- **Power Rule**: $\\int x^n \\, dx = \\frac{x^{n+1}}{n+1}$ (for $n \\neq -1$)\n",
    "\n",
    "### Definite and Indefinite Integrals:\n",
    "- **Indefinite Integral**: General form without limits, representing a family of functions.\n",
    "- **Definite Integral**: Has limits, used to compute the area under a curve between two points.\n",
    "\n",
    "### Examples:"
   ]
  },
  {
   "cell_type": "code",
   "execution_count": null,
   "id": "d895e9c6",
   "metadata": {},
   "outputs": [],
   "source": [
    "# Example: Integrating x^2\n",
    "from sympy import integrate\n",
    "integral_f = integrate(f, x)\n",
    "integral_f"
   ]
  },
  {
   "cell_type": "markdown",
   "id": "99c7b1a4",
   "metadata": {},
   "source": [
    "## 4. Applications in AI\n",
    "- **Gradient Descent**: Derivatives are used to minimize loss functions in optimization.\n",
    "- **Backpropagation**: In neural networks, partial derivatives help update weights to reduce errors.\n",
    "- **Probability**: Integrals help compute probabilities in continuous distributions.\n",
    "\n",
    "Let's see a practical example of how derivatives are used in gradient descent."
   ]
  },
  {
   "cell_type": "markdown",
   "id": "e4898047",
   "metadata": {},
   "source": [
    "### Symbolic Computation Using Python (SymPy)\n",
    "SymPy allows symbolic computation for derivatives and integrals. Let's try some examples."
   ]
  },
  {
   "cell_type": "code",
   "execution_count": null,
   "id": "4a7b7a7c",
   "metadata": {},
   "outputs": [],
   "source": [
    "# Symbolic differentiation\n",
    "f2 = x**3 + 2*x\n",
    "df2_dx = diff(f2, x)\n",
    "df2_dx"
   ]
  },
  {
   "cell_type": "code",
   "execution_count": null,
   "id": "5a7ad651",
   "metadata": {},
   "outputs": [],
   "source": [
    "# Symbolic integration\n",
    "integral_f2 = integrate(f2, x)\n",
    "integral_f2"
   ]
  },
  {
   "cell_type": "markdown",
   "id": "fef3b82c",
   "metadata": {},
   "source": [
    "### Numerical Computation Using Python (SciPy)\n",
    "SciPy and NumPy can compute integrals and derivatives numerically. For example, let's find the approximate integral of a function over an interval."
   ]
  },
  {
   "cell_type": "code",
   "execution_count": null,
   "id": "d8d339b3",
   "metadata": {},
   "outputs": [],
   "source": [
    "# Numerical integration using SciPy\n",
    "from scipy.integrate import quad\n",
    "import numpy as np\n",
    "\n",
    "def func(x):\n",
    "    return x**2 + 2*x + 1\n",
    "\n",
    "# Integrate func from 0 to 2\n",
    "integral_value, error = quad(func, 0, 2)\n",
    "integral_value"
   ]
  },
  {
   "cell_type": "markdown",
   "id": "3ce9405f",
   "metadata": {},
   "source": [
    "## 5. Conclusion\n",
    "Derivatives and integrals are vital in AI, especially in optimization and continuous data analysis.\n",
    "This notebook covered basic concepts, rules, symbolic and numerical computation techniques, and applications in AI."
   ]
  }
 ],
 "metadata": {
  "language_info": {
   "name": "python"
  }
 },
 "nbformat": 4,
 "nbformat_minor": 5
}
