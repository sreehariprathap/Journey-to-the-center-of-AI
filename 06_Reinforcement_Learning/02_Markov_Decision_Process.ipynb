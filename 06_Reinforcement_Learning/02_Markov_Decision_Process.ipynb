{
 "cells": [
  {
   "cell_type": "markdown",
   "metadata": {},
   "source": [
    "# The Markov Property\n",
    "\n",
    "The Markov property simplifies the modeling process, as it allows decision-makers to focus on the present state without the need to consider the entire history of states and actions.\n",
    "\n",
    "## Markov Property\n",
    "1. The future is independent of the past, given the present. (memory less)\n",
    "2. MDPs are memoryless; the current state contains all relevant information for decision-making.\n",
    "\n",
    "In an MDP, the agent interacts with the environment at discrete time steps $t = 1, 2, 3, \\ldots$:\n",
    "\n",
    "![MDP Diagram](../Resources/Images/RL/MDP.png)\n",
    "\n",
    "1. At each time step, the agent receives a representation of the environment, known as the state ($S_t \\in S$).\n",
    "2. Based on the state, the agent selects an action ($A_t \\in A(s)$).\n",
    "3. At the next time step, the agent receives a numerical reward based on its action ($R_{t+1} \\in R$), and the agent transitions to a new state ($S_{t+1}$).\n",
    "4. Therefore, the trajectory is: \n",
    "   \\[\n",
    "   S_0, A_0, R_1, S_1, A_1, R_2, S_2, A_2, R_3, \\ldots\n",
    "   \\]\n",
    "\n",
    "## Finite MDP\n",
    "\n",
    "In a finite MDP, the sets of states, actions, and rewards all have a finite number of elements. In this case, the random variables $R_t$ and $S_t$ have well-defined discrete probability distributions.\n",
    "\n",
    "For particular values of those random variables $s' \\in S$ and $r' \\in R$, there is a probability of those values occurring at time $t$, given the values of the previous state and action:\n",
    "\n",
    "$$\n",
    "p(s', r' \\mid s, a) = \\Pr(S_t = s', R_t = r' \\mid S_{t-1} = s, A_{t-1} = a)\n",
    "$$\n",
    "\n",
    "This probability satisfies the following normalization condition:\n",
    "\n",
    "$$\n",
    "\\sum_{s' \\in S} \\sum_{r' \\in R} p(s', r' \\mid s, a) = 1 \\quad \\forall s \\in S, a \\in A(s)\n",
    "$$\n"
   ]
  }
 ],
 "metadata": {
  "language_info": {
   "name": "python"
  }
 },
 "nbformat": 4,
 "nbformat_minor": 2
}
